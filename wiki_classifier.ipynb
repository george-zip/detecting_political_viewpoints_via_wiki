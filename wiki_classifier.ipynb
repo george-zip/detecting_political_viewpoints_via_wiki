{
 "cells": [
  {
   "cell_type": "code",
   "execution_count": 43,
   "metadata": {
    "collapsed": true
   },
   "outputs": [],
   "source": [
    "import pyspark\n",
    "import numpy as np\n",
    "import pandas as pd\n",
    "from pyspark.sql import SparkSession\n",
    "\n",
    "pd.set_option(\"max_colwidth\", 800)"
   ]
  },
  {
   "cell_type": "code",
   "execution_count": 5,
   "outputs": [
    {
     "name": "stderr",
     "output_type": "stream",
     "text": [
      "WARNING: An illegal reflective access operation has occurred\n",
      "WARNING: Illegal reflective access by org.apache.spark.unsafe.Platform (file:/usr/local/Cellar/apache-spark/3.1.2/libexec/jars/spark-unsafe_2.12-3.1.2.jar) to constructor java.nio.DirectByteBuffer(long,int)\n",
      "WARNING: Please consider reporting this to the maintainers of org.apache.spark.unsafe.Platform\n",
      "WARNING: Use --illegal-access=warn to enable warnings of further illegal reflective access operations\n",
      "WARNING: All illegal access operations will be denied in a future release\n",
      "Setting default log level to \"WARN\".\n",
      "To adjust logging level use sc.setLogLevel(newLevel). For SparkR, use setLogLevel(newLevel).\n"
     ]
    }
   ],
   "source": [
    "# Run Spark on localhost\n",
    "spark = SparkSession\\\n",
    "    .Builder()\\\n",
    "    .config(\"spark.driver.host\", \"127.0.0.1\")\\\n",
    "    .appName(\"wiki_bias\")\\\n",
    "    .getOrCreate()"
   ],
   "metadata": {
    "collapsed": false,
    "pycharm": {
     "name": "#%%\n"
    }
   }
  },
  {
   "cell_type": "code",
   "execution_count": 93,
   "outputs": [
    {
     "name": "stdout",
     "output_type": "stream",
     "text": [
      "/Users/chriswallerstein/Development/python/wikipedia_bias/data/wiki_corpus_2022_2_13.csv\n"
     ]
    }
   ],
   "source": [
    "import os\n",
    "for dirname, _, filenames in os.walk(\"/Users/chriswallerstein/Development/python/wikipedia_bias/data\"):\n",
    "    for file in filenames:\n",
    "        print(os.path.join(dirname, file))\n",
    "\n",
    "wiki_data = spark.read\\\n",
    "    .option(\"mode\", \"dropmalforms\")\\\n",
    "    .option(\"inferSchema\", \"true\")\\\n",
    "    .option(\"header\", \"true\")\\\n",
    "    .option(\"multiline\", \"true\")\\\n",
    "    .option(\"charset\", \"UTF-8\")\\\n",
    "    .csv(\"/Users/chriswallerstein/Development/python/wikipedia_bias/data/*.csv\")"
   ],
   "metadata": {
    "collapsed": false,
    "pycharm": {
     "name": "#%%\n"
    }
   }
  },
  {
   "cell_type": "code",
   "execution_count": 94,
   "outputs": [],
   "source": [
    "# basic data cleansing\n",
    "import pyspark.sql.functions as F\n",
    "\n",
    "@F.udf\n",
    "def ascii_ignore(x):\n",
    "    return x.encode(\"ascii\", \"ignore\").decode(\"ascii\")\n",
    "\n",
    "wiki_data = wiki_data.dropna()\n",
    "wiki_data = wiki_data.withColumn(\"sentence_text\", ascii_ignore(\"sentence\"))"
   ],
   "metadata": {
    "collapsed": false,
    "pycharm": {
     "name": "#%%\n"
    }
   }
  },
  {
   "cell_type": "code",
   "execution_count": 95,
   "outputs": [
    {
     "data": {
      "text/plain": "                     id     source  \\\n0  20220213090531263591   rational   \n1  20220213090531263640   rational   \n2  20220213090531450833   rational   \n3  20220213090531451435   rational   \n4  20220213090531451451   rational   \n5  20220213090532317183  wikipedia   \n\n                                                                                                                                                                                                                                                                                                          sentence  \\\n0  he also helped give the nazis their reputation for creepy occultism.==early life and views==himmler first grew interested in nazi politics when meeting ernst röhm, who convinced him to join his antisemitic paramilitary group, the bund reichskriegsflagge (imperial war flag society).weale, adrian (2010).   \n1                                                                                                                                  himmler joined the nazi party in august 1923. in november, he participated in adolf hitler's beer hall putsch, a failed coup d'état.himmler became obsessed with racial purity.   \n2                                                                                  of course, pseudolinguistics has ties with other fields such as pseudohistory and pseudoarcheology.== basics of linguistics ==in linguistics, the comparative method is the accepted method to show that languages are related.   \n3                                                                                                                                                                                                                                                     a typological evaluation of celtic/hamito-semitic parallels.   \n4        \"\"\"https://linguistics.stackexchange.com/questions/335/are-there-other-pairs-of-languages-that-are-as-close-grammatically-despite-not-b/346#346 answer to are there other pairs of languages that are as close grammatically despite not being in the same language family as korean and japanese?]\"\".\"\\r   \n5                                                                                                                                                                                                       in january 2020, she was named in new zealand's squad for the 2020 icc women's t20 world cup in australia.   \n\n                                                                                                                                                                                                                                                                                                    sentence_text  \\\n0  he also helped give the nazis their reputation for creepy occultism.==early life and views==himmler first grew interested in nazi politics when meeting ernst rhm, who convinced him to join his antisemitic paramilitary group, the bund reichskriegsflagge (imperial war flag society).weale, adrian (2010).   \n1                                                                                                                                  himmler joined the nazi party in august 1923. in november, he participated in adolf hitler's beer hall putsch, a failed coup d'tat.himmler became obsessed with racial purity.   \n2                                                                                 of course, pseudolinguistics has ties with other fields such as pseudohistory and pseudoarcheology.== basics of linguistics ==in linguistics, the comparative method is the accepted method to show that languages are related.   \n3                                                                                                                                                                                                                                                    a typological evaluation of celtic/hamito-semitic parallels.   \n4       \"\"\"https://linguistics.stackexchange.com/questions/335/are-there-other-pairs-of-languages-that-are-as-close-grammatically-despite-not-b/346#346 answer to are there other pairs of languages that are as close grammatically despite not being in the same language family as korean and japanese?]\"\".\"\\r   \n5                                                                                                                                                                                                      in january 2020, she was named in new zealand's squad for the 2020 icc women's t20 world cup in australia.   \n\n                                                                                                                                                                                                                                                                                                                                               words  \n0  [he, also, helped, give, the, nazis, their, reputation, for, creepy, occultism, early, life, and, views, himmler, first, grew, interested, in, nazi, politics, when, meeting, ernst, rhm, who, convinced, him, to, join, his, antisemitic, paramilitary, group, the, bund, reichskriegsflagge, imperial, war, flag, society, weale, adrian, 2010]  \n1                                                                                                                                          [himmler, joined, the, nazi, party, in, august, 1923, in, november, he, participated, in, adolf, hitler, s, beer, hall, putsch, a, failed, coup, d, tat, himmler, became, obsessed, with, racial, purity]  \n2                                                                                            [of, course, pseudolinguistics, has, ties, with, other, fields, such, as, pseudohistory, and, pseudoarcheology, basics, of, linguistics, in, linguistics, the, comparative, method, is, the, accepted, method, to, show, that, languages, are, related]  \n3                                                                                                                                                                                                                                                                               [a, typological, evaluation, of, celtic, hamito, semitic, parallels]  \n4       [https, linguistics, stackexchange, com, questions, 335, are, there, other, pairs, of, languages, that, are, as, close, grammatically, despite, not, b, 346, 346, answer, to, are, there, other, pairs, of, languages, that, are, as, close, grammatically, despite, not, being, in, the, same, language, family, as, korean, and, japanese]  \n5                                                                                                                                                                                                                    [in, january, 2020, she, was, named, in, new, zealand, s, squad, for, the, 2020, icc, women, s, t20, world, cup, in, australia]  ",
      "text/html": "<div>\n<style scoped>\n    .dataframe tbody tr th:only-of-type {\n        vertical-align: middle;\n    }\n\n    .dataframe tbody tr th {\n        vertical-align: top;\n    }\n\n    .dataframe thead th {\n        text-align: right;\n    }\n</style>\n<table border=\"1\" class=\"dataframe\">\n  <thead>\n    <tr style=\"text-align: right;\">\n      <th></th>\n      <th>id</th>\n      <th>source</th>\n      <th>sentence</th>\n      <th>sentence_text</th>\n      <th>words</th>\n    </tr>\n  </thead>\n  <tbody>\n    <tr>\n      <th>0</th>\n      <td>20220213090531263591</td>\n      <td>rational</td>\n      <td>he also helped give the nazis their reputation for creepy occultism.==early life and views==himmler first grew interested in nazi politics when meeting ernst röhm, who convinced him to join his antisemitic paramilitary group, the bund reichskriegsflagge (imperial war flag society).weale, adrian (2010).</td>\n      <td>he also helped give the nazis their reputation for creepy occultism.==early life and views==himmler first grew interested in nazi politics when meeting ernst rhm, who convinced him to join his antisemitic paramilitary group, the bund reichskriegsflagge (imperial war flag society).weale, adrian (2010).</td>\n      <td>[he, also, helped, give, the, nazis, their, reputation, for, creepy, occultism, early, life, and, views, himmler, first, grew, interested, in, nazi, politics, when, meeting, ernst, rhm, who, convinced, him, to, join, his, antisemitic, paramilitary, group, the, bund, reichskriegsflagge, imperial, war, flag, society, weale, adrian, 2010]</td>\n    </tr>\n    <tr>\n      <th>1</th>\n      <td>20220213090531263640</td>\n      <td>rational</td>\n      <td>himmler joined the nazi party in august 1923. in november, he participated in adolf hitler's beer hall putsch, a failed coup d'état.himmler became obsessed with racial purity.</td>\n      <td>himmler joined the nazi party in august 1923. in november, he participated in adolf hitler's beer hall putsch, a failed coup d'tat.himmler became obsessed with racial purity.</td>\n      <td>[himmler, joined, the, nazi, party, in, august, 1923, in, november, he, participated, in, adolf, hitler, s, beer, hall, putsch, a, failed, coup, d, tat, himmler, became, obsessed, with, racial, purity]</td>\n    </tr>\n    <tr>\n      <th>2</th>\n      <td>20220213090531450833</td>\n      <td>rational</td>\n      <td>of course, pseudolinguistics has ties with other fields such as pseudohistory and pseudoarcheology.== basics of linguistics ==in linguistics, the comparative method is the accepted method to show that languages are related.</td>\n      <td>of course, pseudolinguistics has ties with other fields such as pseudohistory and pseudoarcheology.== basics of linguistics ==in linguistics, the comparative method is the accepted method to show that languages are related.</td>\n      <td>[of, course, pseudolinguistics, has, ties, with, other, fields, such, as, pseudohistory, and, pseudoarcheology, basics, of, linguistics, in, linguistics, the, comparative, method, is, the, accepted, method, to, show, that, languages, are, related]</td>\n    </tr>\n    <tr>\n      <th>3</th>\n      <td>20220213090531451435</td>\n      <td>rational</td>\n      <td>a typological evaluation of celtic/hamito-semitic parallels.</td>\n      <td>a typological evaluation of celtic/hamito-semitic parallels.</td>\n      <td>[a, typological, evaluation, of, celtic, hamito, semitic, parallels]</td>\n    </tr>\n    <tr>\n      <th>4</th>\n      <td>20220213090531451451</td>\n      <td>rational</td>\n      <td>\"\"\"https://linguistics.stackexchange.com/questions/335/are-there-other-pairs-of-languages-that-are-as-close-grammatically-despite-not-b/346#346 answer to are there other pairs of languages that are as close grammatically despite not being in the same language family as korean and japanese?]\"\".\"\\r</td>\n      <td>\"\"\"https://linguistics.stackexchange.com/questions/335/are-there-other-pairs-of-languages-that-are-as-close-grammatically-despite-not-b/346#346 answer to are there other pairs of languages that are as close grammatically despite not being in the same language family as korean and japanese?]\"\".\"\\r</td>\n      <td>[https, linguistics, stackexchange, com, questions, 335, are, there, other, pairs, of, languages, that, are, as, close, grammatically, despite, not, b, 346, 346, answer, to, are, there, other, pairs, of, languages, that, are, as, close, grammatically, despite, not, being, in, the, same, language, family, as, korean, and, japanese]</td>\n    </tr>\n    <tr>\n      <th>5</th>\n      <td>20220213090532317183</td>\n      <td>wikipedia</td>\n      <td>in january 2020, she was named in new zealand's squad for the 2020 icc women's t20 world cup in australia.</td>\n      <td>in january 2020, she was named in new zealand's squad for the 2020 icc women's t20 world cup in australia.</td>\n      <td>[in, january, 2020, she, was, named, in, new, zealand, s, squad, for, the, 2020, icc, women, s, t20, world, cup, in, australia]</td>\n    </tr>\n  </tbody>\n</table>\n</div>"
     },
     "execution_count": 95,
     "metadata": {},
     "output_type": "execute_result"
    }
   ],
   "source": [
    "# tokenize\n",
    "from pyspark.ml.feature import RegexTokenizer\n",
    "\n",
    "regex_tokenizer = RegexTokenizer(inputCol=\"sentence_text\", outputCol=\"words\", pattern=\"\\\\W\")\n",
    "wiki_data = regex_tokenizer.transform(wiki_data)\n",
    "wiki_data.sample(True, 0.05).toPandas()"
   ],
   "metadata": {
    "collapsed": false,
    "pycharm": {
     "name": "#%%\n"
    }
   }
  },
  {
   "cell_type": "code",
   "execution_count": 96,
   "outputs": [
    {
     "data": {
      "text/plain": "                     id    source  \\\n0  20220213090531263640  rational   \n1  20220213090531263721  rational   \n2  20220213090531451143  rational   \n3  20220213090531451154  rational   \n4  20220213090531451869  rational   \n\n                                                                                                                                                                             sentence  \\\n0     himmler joined the nazi party in august 1923. in november, he participated in adolf hitler's beer hall putsch, a failed coup d'état.himmler became obsessed with racial purity.   \n1                                                                                                                         he also gained control of the gestapo from hermann goering.   \n2    )** any form of ; theories that sanskrit, hebrew, romanian, or some other historical attested language is the original language of mankind and all others are derived from them.   \n3  *** chief among these is the sun language theory, claiming that language was invented by the turks as a way to convert ritual blathering into a means of meaningful communication.   \n4                                                                                                   \"the proposed ural-altaic language family (\"\"turanian\"\") is a typical example.\"\\r   \n\n                                                                                                                                                                        sentence_text  \\\n0      himmler joined the nazi party in august 1923. in november, he participated in adolf hitler's beer hall putsch, a failed coup d'tat.himmler became obsessed with racial purity.   \n1                                                                                                                         he also gained control of the gestapo from hermann goering.   \n2    )** any form of ; theories that sanskrit, hebrew, romanian, or some other historical attested language is the original language of mankind and all others are derived from them.   \n3  *** chief among these is the sun language theory, claiming that language was invented by the turks as a way to convert ritual blathering into a means of meaningful communication.   \n4                                                                                                   \"the proposed ural-altaic language family (\"\"turanian\"\") is a typical example.\"\\r   \n\n                                                                                                                                                                                                        words  \\\n0   [himmler, joined, the, nazi, party, in, august, 1923, in, november, he, participated, in, adolf, hitler, s, beer, hall, putsch, a, failed, coup, d, tat, himmler, became, obsessed, with, racial, purity]   \n1                                                                                                                                       [he, also, gained, control, of, the, gestapo, from, hermann, goering]   \n2          [any, form, of, theories, that, sanskrit, hebrew, romanian, or, some, other, historical, attested, language, is, the, original, language, of, mankind, and, all, others, are, derived, from, them]   \n3  [chief, among, these, is, the, sun, language, theory, claiming, that, language, was, invented, by, the, turks, as, a, way, to, convert, ritual, blathering, into, a, means, of, meaningful, communication]   \n4                                                                                                                          [the, proposed, ural, altaic, language, family, turanian, is, a, typical, example]   \n\n                                                                                                                                                                                                                                                                                                                                                                                                                                                                                                                    features  \n0  (1.0, 0.0, 3.0, 0.0, 0.0, 1.0, 0.0, 0.0, 0.0, 0.0, 0.0, 0.0, 0.0, 0.0, 0.0, 1.0, 0.0, 2.0, 0.0, 0.0, 0.0, 0.0, 1.0, 1.0, 0.0, 0.0, 0.0, 0.0, 0.0, 0.0, 0.0, 0.0, 0.0, 0.0, 0.0, 0.0, 0.0, 0.0, 0.0, 0.0, 0.0, 0.0, 0.0, 0.0, 0.0, 0.0, 0.0, 0.0, 0.0, 0.0, 0.0, 0.0, 0.0, 0.0, 0.0, 0.0, 0.0, 0.0, 0.0, 0.0, 0.0, 0.0, 0.0, 0.0, 0.0, 0.0, 0.0, 0.0, 0.0, 0.0, 0.0, 0.0, 0.0, 0.0, 0.0, 0.0, 0.0, 0.0, 0.0, 0.0, 0.0, 1.0, 0.0, 0.0, 0.0, 0.0, 0.0, 0.0, 0.0, 0.0, 0.0, 0.0, 0.0, 0.0, 0.0, 0.0, 0.0, 0.0, 0.0, 0.0, ...)  \n1  (1.0, 1.0, 0.0, 0.0, 0.0, 0.0, 0.0, 0.0, 0.0, 0.0, 0.0, 0.0, 0.0, 0.0, 0.0, 0.0, 0.0, 0.0, 0.0, 0.0, 1.0, 0.0, 1.0, 0.0, 0.0, 0.0, 0.0, 0.0, 0.0, 0.0, 0.0, 0.0, 0.0, 0.0, 0.0, 0.0, 0.0, 0.0, 0.0, 0.0, 1.0, 0.0, 0.0, 0.0, 0.0, 0.0, 0.0, 0.0, 0.0, 0.0, 0.0, 0.0, 0.0, 0.0, 0.0, 0.0, 0.0, 0.0, 0.0, 0.0, 0.0, 0.0, 0.0, 0.0, 0.0, 0.0, 0.0, 0.0, 0.0, 0.0, 0.0, 0.0, 0.0, 0.0, 0.0, 0.0, 0.0, 0.0, 0.0, 0.0, 0.0, 0.0, 0.0, 0.0, 0.0, 0.0, 0.0, 0.0, 0.0, 0.0, 0.0, 0.0, 0.0, 0.0, 0.0, 0.0, 0.0, 0.0, 0.0, 0.0, ...)  \n2  (1.0, 2.0, 0.0, 0.0, 1.0, 0.0, 1.0, 1.0, 2.0, 0.0, 0.0, 0.0, 0.0, 0.0, 1.0, 0.0, 1.0, 0.0, 0.0, 0.0, 1.0, 0.0, 0.0, 0.0, 1.0, 0.0, 0.0, 1.0, 0.0, 0.0, 0.0, 0.0, 0.0, 0.0, 0.0, 0.0, 0.0, 0.0, 0.0, 0.0, 0.0, 1.0, 0.0, 0.0, 0.0, 0.0, 0.0, 0.0, 0.0, 0.0, 0.0, 1.0, 1.0, 0.0, 0.0, 0.0, 1.0, 0.0, 1.0, 0.0, 0.0, 0.0, 0.0, 0.0, 0.0, 0.0, 0.0, 0.0, 0.0, 0.0, 0.0, 0.0, 0.0, 0.0, 1.0, 0.0, 0.0, 0.0, 0.0, 0.0, 0.0, 0.0, 0.0, 0.0, 0.0, 0.0, 0.0, 0.0, 0.0, 0.0, 0.0, 0.0, 0.0, 0.0, 0.0, 0.0, 0.0, 0.0, 0.0, 0.0, ...)  \n3  (2.0, 1.0, 0.0, 1.0, 0.0, 2.0, 1.0, 1.0, 2.0, 0.0, 1.0, 0.0, 1.0, 1.0, 0.0, 0.0, 0.0, 0.0, 0.0, 0.0, 0.0, 0.0, 0.0, 0.0, 0.0, 0.0, 0.0, 0.0, 0.0, 0.0, 0.0, 0.0, 0.0, 0.0, 0.0, 0.0, 0.0, 0.0, 0.0, 0.0, 0.0, 0.0, 0.0, 0.0, 0.0, 0.0, 0.0, 0.0, 0.0, 0.0, 1.0, 0.0, 0.0, 0.0, 0.0, 0.0, 0.0, 0.0, 0.0, 0.0, 0.0, 0.0, 0.0, 0.0, 0.0, 0.0, 0.0, 0.0, 0.0, 0.0, 0.0, 0.0, 0.0, 0.0, 0.0, 0.0, 0.0, 0.0, 0.0, 1.0, 0.0, 0.0, 0.0, 1.0, 0.0, 0.0, 0.0, 0.0, 0.0, 0.0, 0.0, 0.0, 0.0, 0.0, 0.0, 0.0, 0.0, 0.0, 0.0, 0.0, ...)  \n4  (1.0, 0.0, 0.0, 0.0, 0.0, 1.0, 0.0, 1.0, 1.0, 0.0, 0.0, 0.0, 0.0, 0.0, 0.0, 0.0, 0.0, 0.0, 0.0, 0.0, 0.0, 0.0, 0.0, 0.0, 0.0, 0.0, 0.0, 0.0, 0.0, 0.0, 0.0, 0.0, 0.0, 0.0, 0.0, 0.0, 0.0, 0.0, 0.0, 0.0, 0.0, 0.0, 0.0, 0.0, 1.0, 0.0, 0.0, 0.0, 0.0, 0.0, 0.0, 0.0, 0.0, 0.0, 0.0, 0.0, 0.0, 0.0, 0.0, 0.0, 0.0, 0.0, 0.0, 0.0, 0.0, 0.0, 0.0, 0.0, 0.0, 0.0, 0.0, 0.0, 0.0, 0.0, 0.0, 0.0, 0.0, 0.0, 0.0, 0.0, 0.0, 0.0, 0.0, 0.0, 0.0, 0.0, 0.0, 0.0, 0.0, 0.0, 0.0, 0.0, 0.0, 0.0, 0.0, 1.0, 0.0, 0.0, 0.0, 0.0, ...)  ",
      "text/html": "<div>\n<style scoped>\n    .dataframe tbody tr th:only-of-type {\n        vertical-align: middle;\n    }\n\n    .dataframe tbody tr th {\n        vertical-align: top;\n    }\n\n    .dataframe thead th {\n        text-align: right;\n    }\n</style>\n<table border=\"1\" class=\"dataframe\">\n  <thead>\n    <tr style=\"text-align: right;\">\n      <th></th>\n      <th>id</th>\n      <th>source</th>\n      <th>sentence</th>\n      <th>sentence_text</th>\n      <th>words</th>\n      <th>features</th>\n    </tr>\n  </thead>\n  <tbody>\n    <tr>\n      <th>0</th>\n      <td>20220213090531263640</td>\n      <td>rational</td>\n      <td>himmler joined the nazi party in august 1923. in november, he participated in adolf hitler's beer hall putsch, a failed coup d'état.himmler became obsessed with racial purity.</td>\n      <td>himmler joined the nazi party in august 1923. in november, he participated in adolf hitler's beer hall putsch, a failed coup d'tat.himmler became obsessed with racial purity.</td>\n      <td>[himmler, joined, the, nazi, party, in, august, 1923, in, november, he, participated, in, adolf, hitler, s, beer, hall, putsch, a, failed, coup, d, tat, himmler, became, obsessed, with, racial, purity]</td>\n      <td>(1.0, 0.0, 3.0, 0.0, 0.0, 1.0, 0.0, 0.0, 0.0, 0.0, 0.0, 0.0, 0.0, 0.0, 0.0, 1.0, 0.0, 2.0, 0.0, 0.0, 0.0, 0.0, 1.0, 1.0, 0.0, 0.0, 0.0, 0.0, 0.0, 0.0, 0.0, 0.0, 0.0, 0.0, 0.0, 0.0, 0.0, 0.0, 0.0, 0.0, 0.0, 0.0, 0.0, 0.0, 0.0, 0.0, 0.0, 0.0, 0.0, 0.0, 0.0, 0.0, 0.0, 0.0, 0.0, 0.0, 0.0, 0.0, 0.0, 0.0, 0.0, 0.0, 0.0, 0.0, 0.0, 0.0, 0.0, 0.0, 0.0, 0.0, 0.0, 0.0, 0.0, 0.0, 0.0, 0.0, 0.0, 0.0, 0.0, 0.0, 0.0, 1.0, 0.0, 0.0, 0.0, 0.0, 0.0, 0.0, 0.0, 0.0, 0.0, 0.0, 0.0, 0.0, 0.0, 0.0, 0.0, 0.0, 0.0, 0.0, ...)</td>\n    </tr>\n    <tr>\n      <th>1</th>\n      <td>20220213090531263721</td>\n      <td>rational</td>\n      <td>he also gained control of the gestapo from hermann goering.</td>\n      <td>he also gained control of the gestapo from hermann goering.</td>\n      <td>[he, also, gained, control, of, the, gestapo, from, hermann, goering]</td>\n      <td>(1.0, 1.0, 0.0, 0.0, 0.0, 0.0, 0.0, 0.0, 0.0, 0.0, 0.0, 0.0, 0.0, 0.0, 0.0, 0.0, 0.0, 0.0, 0.0, 0.0, 1.0, 0.0, 1.0, 0.0, 0.0, 0.0, 0.0, 0.0, 0.0, 0.0, 0.0, 0.0, 0.0, 0.0, 0.0, 0.0, 0.0, 0.0, 0.0, 0.0, 1.0, 0.0, 0.0, 0.0, 0.0, 0.0, 0.0, 0.0, 0.0, 0.0, 0.0, 0.0, 0.0, 0.0, 0.0, 0.0, 0.0, 0.0, 0.0, 0.0, 0.0, 0.0, 0.0, 0.0, 0.0, 0.0, 0.0, 0.0, 0.0, 0.0, 0.0, 0.0, 0.0, 0.0, 0.0, 0.0, 0.0, 0.0, 0.0, 0.0, 0.0, 0.0, 0.0, 0.0, 0.0, 0.0, 0.0, 0.0, 0.0, 0.0, 0.0, 0.0, 0.0, 0.0, 0.0, 0.0, 0.0, 0.0, 0.0, 0.0, ...)</td>\n    </tr>\n    <tr>\n      <th>2</th>\n      <td>20220213090531451143</td>\n      <td>rational</td>\n      <td>)** any form of ; theories that sanskrit, hebrew, romanian, or some other historical attested language is the original language of mankind and all others are derived from them.</td>\n      <td>)** any form of ; theories that sanskrit, hebrew, romanian, or some other historical attested language is the original language of mankind and all others are derived from them.</td>\n      <td>[any, form, of, theories, that, sanskrit, hebrew, romanian, or, some, other, historical, attested, language, is, the, original, language, of, mankind, and, all, others, are, derived, from, them]</td>\n      <td>(1.0, 2.0, 0.0, 0.0, 1.0, 0.0, 1.0, 1.0, 2.0, 0.0, 0.0, 0.0, 0.0, 0.0, 1.0, 0.0, 1.0, 0.0, 0.0, 0.0, 1.0, 0.0, 0.0, 0.0, 1.0, 0.0, 0.0, 1.0, 0.0, 0.0, 0.0, 0.0, 0.0, 0.0, 0.0, 0.0, 0.0, 0.0, 0.0, 0.0, 0.0, 1.0, 0.0, 0.0, 0.0, 0.0, 0.0, 0.0, 0.0, 0.0, 0.0, 1.0, 1.0, 0.0, 0.0, 0.0, 1.0, 0.0, 1.0, 0.0, 0.0, 0.0, 0.0, 0.0, 0.0, 0.0, 0.0, 0.0, 0.0, 0.0, 0.0, 0.0, 0.0, 0.0, 1.0, 0.0, 0.0, 0.0, 0.0, 0.0, 0.0, 0.0, 0.0, 0.0, 0.0, 0.0, 0.0, 0.0, 0.0, 0.0, 0.0, 0.0, 0.0, 0.0, 0.0, 0.0, 0.0, 0.0, 0.0, 0.0, ...)</td>\n    </tr>\n    <tr>\n      <th>3</th>\n      <td>20220213090531451154</td>\n      <td>rational</td>\n      <td>*** chief among these is the sun language theory, claiming that language was invented by the turks as a way to convert ritual blathering into a means of meaningful communication.</td>\n      <td>*** chief among these is the sun language theory, claiming that language was invented by the turks as a way to convert ritual blathering into a means of meaningful communication.</td>\n      <td>[chief, among, these, is, the, sun, language, theory, claiming, that, language, was, invented, by, the, turks, as, a, way, to, convert, ritual, blathering, into, a, means, of, meaningful, communication]</td>\n      <td>(2.0, 1.0, 0.0, 1.0, 0.0, 2.0, 1.0, 1.0, 2.0, 0.0, 1.0, 0.0, 1.0, 1.0, 0.0, 0.0, 0.0, 0.0, 0.0, 0.0, 0.0, 0.0, 0.0, 0.0, 0.0, 0.0, 0.0, 0.0, 0.0, 0.0, 0.0, 0.0, 0.0, 0.0, 0.0, 0.0, 0.0, 0.0, 0.0, 0.0, 0.0, 0.0, 0.0, 0.0, 0.0, 0.0, 0.0, 0.0, 0.0, 0.0, 1.0, 0.0, 0.0, 0.0, 0.0, 0.0, 0.0, 0.0, 0.0, 0.0, 0.0, 0.0, 0.0, 0.0, 0.0, 0.0, 0.0, 0.0, 0.0, 0.0, 0.0, 0.0, 0.0, 0.0, 0.0, 0.0, 0.0, 0.0, 0.0, 1.0, 0.0, 0.0, 0.0, 1.0, 0.0, 0.0, 0.0, 0.0, 0.0, 0.0, 0.0, 0.0, 0.0, 0.0, 0.0, 0.0, 0.0, 0.0, 0.0, 0.0, ...)</td>\n    </tr>\n    <tr>\n      <th>4</th>\n      <td>20220213090531451869</td>\n      <td>rational</td>\n      <td>\"the proposed ural-altaic language family (\"\"turanian\"\") is a typical example.\"\\r</td>\n      <td>\"the proposed ural-altaic language family (\"\"turanian\"\") is a typical example.\"\\r</td>\n      <td>[the, proposed, ural, altaic, language, family, turanian, is, a, typical, example]</td>\n      <td>(1.0, 0.0, 0.0, 0.0, 0.0, 1.0, 0.0, 1.0, 1.0, 0.0, 0.0, 0.0, 0.0, 0.0, 0.0, 0.0, 0.0, 0.0, 0.0, 0.0, 0.0, 0.0, 0.0, 0.0, 0.0, 0.0, 0.0, 0.0, 0.0, 0.0, 0.0, 0.0, 0.0, 0.0, 0.0, 0.0, 0.0, 0.0, 0.0, 0.0, 0.0, 0.0, 0.0, 0.0, 1.0, 0.0, 0.0, 0.0, 0.0, 0.0, 0.0, 0.0, 0.0, 0.0, 0.0, 0.0, 0.0, 0.0, 0.0, 0.0, 0.0, 0.0, 0.0, 0.0, 0.0, 0.0, 0.0, 0.0, 0.0, 0.0, 0.0, 0.0, 0.0, 0.0, 0.0, 0.0, 0.0, 0.0, 0.0, 0.0, 0.0, 0.0, 0.0, 0.0, 0.0, 0.0, 0.0, 0.0, 0.0, 0.0, 0.0, 0.0, 0.0, 0.0, 0.0, 1.0, 0.0, 0.0, 0.0, 0.0, ...)</td>\n    </tr>\n  </tbody>\n</table>\n</div>"
     },
     "execution_count": 96,
     "metadata": {},
     "output_type": "execute_result"
    }
   ],
   "source": [
    "# vectorize words\n",
    "from pyspark.ml.feature import CountVectorizer\n",
    "\n",
    "cv = CountVectorizer(inputCol=\"words\", outputCol=\"features\")\n",
    "cv_model = cv.fit(wiki_data)\n",
    "wiki_data = cv_model.transform(wiki_data)\n",
    "wiki_data.sample(True, 0.05).toPandas()"
   ],
   "metadata": {
    "collapsed": false,
    "pycharm": {
     "name": "#%%\n"
    }
   }
  },
  {
   "cell_type": "code",
   "execution_count": 100,
   "outputs": [
    {
     "data": {
      "text/plain": "                     id         source  \\\n0  20220213090530841786  conservapedia   \n1  20220213090530841821  conservapedia   \n2  20220213090531026557  conservapedia   \n3  20220213090531026603  conservapedia   \n\n                                                                                                                                                                                                                                                                                                                                                                                                                                                                                                                                                                                        sentence  \\\n0                                                                                                                                                                                                                                                                                                                                                                                                                                                                                   blake david moore (born june 22, 1980) is an american politician and former diplomat from the state of utah.   \n1  he is the representative for utah's 1st congressional district in the united states house of representatives.==tenure==he was one of thirty-five republicans to vote for the partisan hack resolution calling for an investigation on capitol hill.https://clerk.house.gov/evs/2021/roll154.xml==references==category:utahcategory:moderate republicanscategory:rinoscategory:united states representativescategory:117th united states congresscategory:republican establishmentcategory:anti-trumpcategory:republican main street partnershipcategory:biden putschcategory:neoconservatives   \n2                                                                                                                                                                                                                                                                                                                                                                                                                                                            westminster choir college is a small college of 330 undergraduates located in princeton, new jersey, close to princeton university.   \n3                                                                                                                                                                                                                                                                                                                                                                                                                                                                                                                        westminster choir college is part of rider university.category:colleges   \n\n                                                                                                                                                                                                                                                                                                                                                                                                                                                                                                                                                                                   sentence_text  \\\n0                                                                                                                                                                                                                                                                                                                                                                                                                                                                                   blake david moore (born june 22, 1980) is an american politician and former diplomat from the state of utah.   \n1  he is the representative for utah's 1st congressional district in the united states house of representatives.==tenure==he was one of thirty-five republicans to vote for the partisan hack resolution calling for an investigation on capitol hill.https://clerk.house.gov/evs/2021/roll154.xml==references==category:utahcategory:moderate republicanscategory:rinoscategory:united states representativescategory:117th united states congresscategory:republican establishmentcategory:anti-trumpcategory:republican main street partnershipcategory:biden putschcategory:neoconservatives   \n2                                                                                                                                                                                                                                                                                                                                                                                                                                                            westminster choir college is a small college of 330 undergraduates located in princeton, new jersey, close to princeton university.   \n3                                                                                                                                                                                                                                                                                                                                                                                                                                                                                                                        westminster choir college is part of rider university.category:colleges   \n\n                                                                                                                                                                                                                                                                                                                                                                                                                                                                                                                                                                                                                                                            words  \\\n0                                                                                                                                                                                                                                                                                                                                                                                                                                                                                                                                    [blake, david, moore, born, june, 22, 1980, is, an, american, politician, and, former, diplomat, from, the, state, of, utah]   \n1  [he, is, the, representative, for, utah, s, 1st, congressional, district, in, the, united, states, house, of, representatives, tenure, he, was, one, of, thirty, five, republicans, to, vote, for, the, partisan, hack, resolution, calling, for, an, investigation, on, capitol, hill, https, clerk, house, gov, evs, 2021, roll154, xml, references, category, utahcategory, moderate, republicanscategory, rinoscategory, united, states, representativescategory, 117th, united, states, congresscategory, republican, establishmentcategory, anti, trumpcategory, republican, main, street, partnershipcategory, biden, putschcategory, neoconservatives]   \n2                                                                                                                                                                                                                                                                                                                                                                                                                                                                                                            [westminster, choir, college, is, a, small, college, of, 330, undergraduates, located, in, princeton, new, jersey, close, to, princeton, university]   \n3                                                                                                                                                                                                                                                                                                                                                                                                                                                                                                                                                                              [westminster, choir, college, is, part, of, rider, university, category, colleges]   \n\n                                                                                                                                                                                                                                                                                                                                                                                                                                                                                                                    features  \\\n0  (1.0, 1.0, 0.0, 0.0, 1.0, 0.0, 0.0, 1.0, 0.0, 0.0, 0.0, 0.0, 0.0, 0.0, 0.0, 0.0, 0.0, 0.0, 0.0, 0.0, 1.0, 0.0, 0.0, 0.0, 0.0, 0.0, 0.0, 0.0, 0.0, 0.0, 0.0, 0.0, 0.0, 1.0, 0.0, 0.0, 0.0, 0.0, 0.0, 0.0, 0.0, 0.0, 0.0, 0.0, 0.0, 0.0, 0.0, 0.0, 0.0, 0.0, 0.0, 0.0, 0.0, 0.0, 0.0, 0.0, 0.0, 0.0, 0.0, 0.0, 0.0, 0.0, 0.0, 0.0, 0.0, 0.0, 0.0, 0.0, 0.0, 0.0, 0.0, 0.0, 0.0, 0.0, 0.0, 0.0, 0.0, 0.0, 0.0, 0.0, 0.0, 0.0, 0.0, 0.0, 0.0, 0.0, 0.0, 0.0, 0.0, 0.0, 0.0, 0.0, 0.0, 0.0, 0.0, 0.0, 0.0, 0.0, 0.0, 0.0, ...)   \n1  (3.0, 2.0, 1.0, 1.0, 0.0, 0.0, 0.0, 1.0, 0.0, 0.0, 1.0, 3.0, 0.0, 0.0, 0.0, 1.0, 0.0, 0.0, 1.0, 0.0, 0.0, 0.0, 2.0, 0.0, 0.0, 0.0, 0.0, 0.0, 0.0, 0.0, 0.0, 0.0, 0.0, 1.0, 0.0, 0.0, 0.0, 0.0, 0.0, 0.0, 0.0, 0.0, 0.0, 0.0, 0.0, 0.0, 0.0, 0.0, 0.0, 1.0, 0.0, 0.0, 0.0, 0.0, 0.0, 0.0, 0.0, 0.0, 0.0, 0.0, 0.0, 0.0, 1.0, 0.0, 0.0, 0.0, 0.0, 0.0, 0.0, 0.0, 0.0, 0.0, 0.0, 0.0, 0.0, 0.0, 0.0, 0.0, 0.0, 0.0, 0.0, 0.0, 0.0, 0.0, 0.0, 0.0, 0.0, 0.0, 0.0, 0.0, 0.0, 0.0, 0.0, 0.0, 0.0, 0.0, 0.0, 0.0, 0.0, 0.0, ...)   \n2  (0.0, 1.0, 1.0, 1.0, 0.0, 1.0, 0.0, 1.0, 0.0, 0.0, 0.0, 0.0, 0.0, 0.0, 0.0, 0.0, 0.0, 0.0, 0.0, 0.0, 0.0, 1.0, 0.0, 0.0, 0.0, 0.0, 0.0, 0.0, 0.0, 0.0, 0.0, 0.0, 0.0, 0.0, 0.0, 0.0, 0.0, 0.0, 0.0, 0.0, 0.0, 0.0, 0.0, 0.0, 0.0, 0.0, 0.0, 0.0, 0.0, 0.0, 0.0, 0.0, 0.0, 0.0, 0.0, 0.0, 0.0, 0.0, 0.0, 0.0, 0.0, 0.0, 0.0, 0.0, 0.0, 0.0, 0.0, 0.0, 0.0, 0.0, 0.0, 0.0, 0.0, 0.0, 0.0, 0.0, 0.0, 0.0, 0.0, 0.0, 0.0, 0.0, 0.0, 0.0, 0.0, 0.0, 0.0, 0.0, 0.0, 0.0, 0.0, 0.0, 0.0, 0.0, 0.0, 0.0, 0.0, 0.0, 0.0, 0.0, ...)   \n3  (0.0, 1.0, 0.0, 0.0, 0.0, 0.0, 0.0, 1.0, 0.0, 0.0, 0.0, 0.0, 0.0, 0.0, 0.0, 0.0, 0.0, 0.0, 0.0, 0.0, 0.0, 0.0, 0.0, 0.0, 0.0, 0.0, 0.0, 0.0, 0.0, 0.0, 0.0, 0.0, 0.0, 0.0, 0.0, 0.0, 0.0, 0.0, 0.0, 0.0, 0.0, 0.0, 0.0, 0.0, 0.0, 0.0, 0.0, 0.0, 0.0, 0.0, 0.0, 0.0, 0.0, 0.0, 0.0, 0.0, 0.0, 0.0, 0.0, 0.0, 0.0, 0.0, 1.0, 0.0, 0.0, 0.0, 0.0, 0.0, 0.0, 0.0, 0.0, 0.0, 0.0, 0.0, 0.0, 0.0, 0.0, 0.0, 0.0, 0.0, 0.0, 0.0, 0.0, 0.0, 0.0, 0.0, 0.0, 0.0, 0.0, 0.0, 0.0, 0.0, 0.0, 0.0, 0.0, 0.0, 0.0, 0.0, 0.0, 0.0, ...)   \n\n   label  \n0    2.0  \n1    2.0  \n2    2.0  \n3    2.0  ",
      "text/html": "<div>\n<style scoped>\n    .dataframe tbody tr th:only-of-type {\n        vertical-align: middle;\n    }\n\n    .dataframe tbody tr th {\n        vertical-align: top;\n    }\n\n    .dataframe thead th {\n        text-align: right;\n    }\n</style>\n<table border=\"1\" class=\"dataframe\">\n  <thead>\n    <tr style=\"text-align: right;\">\n      <th></th>\n      <th>id</th>\n      <th>source</th>\n      <th>sentence</th>\n      <th>sentence_text</th>\n      <th>words</th>\n      <th>features</th>\n      <th>label</th>\n    </tr>\n  </thead>\n  <tbody>\n    <tr>\n      <th>0</th>\n      <td>20220213090530841786</td>\n      <td>conservapedia</td>\n      <td>blake david moore (born june 22, 1980) is an american politician and former diplomat from the state of utah.</td>\n      <td>blake david moore (born june 22, 1980) is an american politician and former diplomat from the state of utah.</td>\n      <td>[blake, david, moore, born, june, 22, 1980, is, an, american, politician, and, former, diplomat, from, the, state, of, utah]</td>\n      <td>(1.0, 1.0, 0.0, 0.0, 1.0, 0.0, 0.0, 1.0, 0.0, 0.0, 0.0, 0.0, 0.0, 0.0, 0.0, 0.0, 0.0, 0.0, 0.0, 0.0, 1.0, 0.0, 0.0, 0.0, 0.0, 0.0, 0.0, 0.0, 0.0, 0.0, 0.0, 0.0, 0.0, 1.0, 0.0, 0.0, 0.0, 0.0, 0.0, 0.0, 0.0, 0.0, 0.0, 0.0, 0.0, 0.0, 0.0, 0.0, 0.0, 0.0, 0.0, 0.0, 0.0, 0.0, 0.0, 0.0, 0.0, 0.0, 0.0, 0.0, 0.0, 0.0, 0.0, 0.0, 0.0, 0.0, 0.0, 0.0, 0.0, 0.0, 0.0, 0.0, 0.0, 0.0, 0.0, 0.0, 0.0, 0.0, 0.0, 0.0, 0.0, 0.0, 0.0, 0.0, 0.0, 0.0, 0.0, 0.0, 0.0, 0.0, 0.0, 0.0, 0.0, 0.0, 0.0, 0.0, 0.0, 0.0, 0.0, 0.0, ...)</td>\n      <td>2.0</td>\n    </tr>\n    <tr>\n      <th>1</th>\n      <td>20220213090530841821</td>\n      <td>conservapedia</td>\n      <td>he is the representative for utah's 1st congressional district in the united states house of representatives.==tenure==he was one of thirty-five republicans to vote for the partisan hack resolution calling for an investigation on capitol hill.https://clerk.house.gov/evs/2021/roll154.xml==references==category:utahcategory:moderate republicanscategory:rinoscategory:united states representativescategory:117th united states congresscategory:republican establishmentcategory:anti-trumpcategory:republican main street partnershipcategory:biden putschcategory:neoconservatives</td>\n      <td>he is the representative for utah's 1st congressional district in the united states house of representatives.==tenure==he was one of thirty-five republicans to vote for the partisan hack resolution calling for an investigation on capitol hill.https://clerk.house.gov/evs/2021/roll154.xml==references==category:utahcategory:moderate republicanscategory:rinoscategory:united states representativescategory:117th united states congresscategory:republican establishmentcategory:anti-trumpcategory:republican main street partnershipcategory:biden putschcategory:neoconservatives</td>\n      <td>[he, is, the, representative, for, utah, s, 1st, congressional, district, in, the, united, states, house, of, representatives, tenure, he, was, one, of, thirty, five, republicans, to, vote, for, the, partisan, hack, resolution, calling, for, an, investigation, on, capitol, hill, https, clerk, house, gov, evs, 2021, roll154, xml, references, category, utahcategory, moderate, republicanscategory, rinoscategory, united, states, representativescategory, 117th, united, states, congresscategory, republican, establishmentcategory, anti, trumpcategory, republican, main, street, partnershipcategory, biden, putschcategory, neoconservatives]</td>\n      <td>(3.0, 2.0, 1.0, 1.0, 0.0, 0.0, 0.0, 1.0, 0.0, 0.0, 1.0, 3.0, 0.0, 0.0, 0.0, 1.0, 0.0, 0.0, 1.0, 0.0, 0.0, 0.0, 2.0, 0.0, 0.0, 0.0, 0.0, 0.0, 0.0, 0.0, 0.0, 0.0, 0.0, 1.0, 0.0, 0.0, 0.0, 0.0, 0.0, 0.0, 0.0, 0.0, 0.0, 0.0, 0.0, 0.0, 0.0, 0.0, 0.0, 1.0, 0.0, 0.0, 0.0, 0.0, 0.0, 0.0, 0.0, 0.0, 0.0, 0.0, 0.0, 0.0, 1.0, 0.0, 0.0, 0.0, 0.0, 0.0, 0.0, 0.0, 0.0, 0.0, 0.0, 0.0, 0.0, 0.0, 0.0, 0.0, 0.0, 0.0, 0.0, 0.0, 0.0, 0.0, 0.0, 0.0, 0.0, 0.0, 0.0, 0.0, 0.0, 0.0, 0.0, 0.0, 0.0, 0.0, 0.0, 0.0, 0.0, 0.0, ...)</td>\n      <td>2.0</td>\n    </tr>\n    <tr>\n      <th>2</th>\n      <td>20220213090531026557</td>\n      <td>conservapedia</td>\n      <td>westminster choir college is a small college of 330 undergraduates located in princeton, new jersey, close to princeton university.</td>\n      <td>westminster choir college is a small college of 330 undergraduates located in princeton, new jersey, close to princeton university.</td>\n      <td>[westminster, choir, college, is, a, small, college, of, 330, undergraduates, located, in, princeton, new, jersey, close, to, princeton, university]</td>\n      <td>(0.0, 1.0, 1.0, 1.0, 0.0, 1.0, 0.0, 1.0, 0.0, 0.0, 0.0, 0.0, 0.0, 0.0, 0.0, 0.0, 0.0, 0.0, 0.0, 0.0, 0.0, 1.0, 0.0, 0.0, 0.0, 0.0, 0.0, 0.0, 0.0, 0.0, 0.0, 0.0, 0.0, 0.0, 0.0, 0.0, 0.0, 0.0, 0.0, 0.0, 0.0, 0.0, 0.0, 0.0, 0.0, 0.0, 0.0, 0.0, 0.0, 0.0, 0.0, 0.0, 0.0, 0.0, 0.0, 0.0, 0.0, 0.0, 0.0, 0.0, 0.0, 0.0, 0.0, 0.0, 0.0, 0.0, 0.0, 0.0, 0.0, 0.0, 0.0, 0.0, 0.0, 0.0, 0.0, 0.0, 0.0, 0.0, 0.0, 0.0, 0.0, 0.0, 0.0, 0.0, 0.0, 0.0, 0.0, 0.0, 0.0, 0.0, 0.0, 0.0, 0.0, 0.0, 0.0, 0.0, 0.0, 0.0, 0.0, 0.0, ...)</td>\n      <td>2.0</td>\n    </tr>\n    <tr>\n      <th>3</th>\n      <td>20220213090531026603</td>\n      <td>conservapedia</td>\n      <td>westminster choir college is part of rider university.category:colleges</td>\n      <td>westminster choir college is part of rider university.category:colleges</td>\n      <td>[westminster, choir, college, is, part, of, rider, university, category, colleges]</td>\n      <td>(0.0, 1.0, 0.0, 0.0, 0.0, 0.0, 0.0, 1.0, 0.0, 0.0, 0.0, 0.0, 0.0, 0.0, 0.0, 0.0, 0.0, 0.0, 0.0, 0.0, 0.0, 0.0, 0.0, 0.0, 0.0, 0.0, 0.0, 0.0, 0.0, 0.0, 0.0, 0.0, 0.0, 0.0, 0.0, 0.0, 0.0, 0.0, 0.0, 0.0, 0.0, 0.0, 0.0, 0.0, 0.0, 0.0, 0.0, 0.0, 0.0, 0.0, 0.0, 0.0, 0.0, 0.0, 0.0, 0.0, 0.0, 0.0, 0.0, 0.0, 0.0, 0.0, 1.0, 0.0, 0.0, 0.0, 0.0, 0.0, 0.0, 0.0, 0.0, 0.0, 0.0, 0.0, 0.0, 0.0, 0.0, 0.0, 0.0, 0.0, 0.0, 0.0, 0.0, 0.0, 0.0, 0.0, 0.0, 0.0, 0.0, 0.0, 0.0, 0.0, 0.0, 0.0, 0.0, 0.0, 0.0, 0.0, 0.0, 0.0, ...)</td>\n      <td>2.0</td>\n    </tr>\n  </tbody>\n</table>\n</div>"
     },
     "execution_count": 100,
     "metadata": {},
     "output_type": "execute_result"
    }
   ],
   "source": [
    "# transform label column (source)\n",
    "from pyspark.ml.feature import StringIndexer\n",
    "\n",
    "si = StringIndexer(inputCol=\"source\", outputCol=\"label\")\n",
    "si_model = si.fit(wiki_data)\n",
    "wiki_data = si_model.transform(wiki_data)\n",
    "wiki_data.sample(True, 0.05).toPandas()"
   ],
   "metadata": {
    "collapsed": false,
    "pycharm": {
     "name": "#%%\n"
    }
   }
  },
  {
   "cell_type": "code",
   "execution_count": 102,
   "outputs": [
    {
     "name": "stdout",
     "output_type": "stream",
     "text": [
      "140\n",
      "14\n"
     ]
    }
   ],
   "source": [
    "train, test = wiki_data.select(\"features\", \"label\").randomSplit([0.9,0.1])\n",
    "print(train.count())\n",
    "print(test.count())"
   ],
   "metadata": {
    "collapsed": false,
    "pycharm": {
     "name": "#%%\n"
    }
   }
  },
  {
   "cell_type": "code",
   "execution_count": 116,
   "outputs": [
    {
     "data": {
      "text/plain": "                                                                                                                                                                                                                                                                                                                                                                                                                                                                                                                    features  \\\n0  (3.0, 2.0, 1.0, 1.0, 0.0, 0.0, 0.0, 1.0, 0.0, 0.0, 1.0, 3.0, 0.0, 0.0, 0.0, 1.0, 0.0, 0.0, 1.0, 0.0, 0.0, 0.0, 2.0, 0.0, 0.0, 0.0, 0.0, 0.0, 0.0, 0.0, 0.0, 0.0, 0.0, 1.0, 0.0, 0.0, 0.0, 0.0, 0.0, 0.0, 0.0, 0.0, 0.0, 0.0, 0.0, 0.0, 0.0, 0.0, 0.0, 1.0, 0.0, 0.0, 0.0, 0.0, 0.0, 0.0, 0.0, 0.0, 0.0, 0.0, 0.0, 0.0, 1.0, 0.0, 0.0, 0.0, 0.0, 0.0, 0.0, 0.0, 0.0, 0.0, 0.0, 0.0, 0.0, 0.0, 0.0, 0.0, 0.0, 0.0, 0.0, 0.0, 0.0, 0.0, 0.0, 0.0, 0.0, 0.0, 0.0, 0.0, 0.0, 0.0, 0.0, 0.0, 0.0, 0.0, 0.0, 0.0, 0.0, 0.0, ...)   \n1  (3.0, 2.0, 1.0, 1.0, 0.0, 0.0, 0.0, 0.0, 1.0, 0.0, 1.0, 1.0, 0.0, 0.0, 0.0, 1.0, 1.0, 0.0, 0.0, 0.0, 0.0, 0.0, 0.0, 0.0, 1.0, 0.0, 0.0, 0.0, 0.0, 1.0, 0.0, 0.0, 0.0, 0.0, 0.0, 0.0, 1.0, 0.0, 0.0, 0.0, 0.0, 0.0, 0.0, 0.0, 1.0, 1.0, 0.0, 0.0, 1.0, 0.0, 0.0, 0.0, 0.0, 0.0, 0.0, 0.0, 0.0, 0.0, 0.0, 0.0, 0.0, 0.0, 0.0, 0.0, 0.0, 0.0, 0.0, 1.0, 1.0, 0.0, 0.0, 0.0, 0.0, 0.0, 1.0, 0.0, 1.0, 0.0, 0.0, 0.0, 1.0, 0.0, 0.0, 0.0, 0.0, 0.0, 0.0, 0.0, 0.0, 0.0, 0.0, 0.0, 0.0, 0.0, 0.0, 0.0, 0.0, 0.0, 0.0, 0.0, ...)   \n2  (6.0, 2.0, 2.0, 1.0, 0.0, 0.0, 0.0, 0.0, 0.0, 0.0, 2.0, 0.0, 2.0, 0.0, 0.0, 1.0, 0.0, 0.0, 0.0, 0.0, 0.0, 1.0, 0.0, 0.0, 0.0, 0.0, 0.0, 0.0, 1.0, 0.0, 0.0, 0.0, 0.0, 0.0, 1.0, 0.0, 0.0, 0.0, 0.0, 0.0, 0.0, 0.0, 1.0, 0.0, 0.0, 0.0, 0.0, 0.0, 0.0, 0.0, 0.0, 0.0, 0.0, 2.0, 0.0, 0.0, 0.0, 0.0, 0.0, 1.0, 0.0, 0.0, 0.0, 0.0, 0.0, 0.0, 0.0, 0.0, 0.0, 0.0, 0.0, 0.0, 0.0, 0.0, 0.0, 0.0, 0.0, 1.0, 0.0, 0.0, 0.0, 0.0, 0.0, 0.0, 0.0, 0.0, 2.0, 0.0, 0.0, 0.0, 0.0, 0.0, 0.0, 0.0, 0.0, 0.0, 0.0, 0.0, 0.0, 0.0, ...)   \n3  (5.0, 3.0, 1.0, 2.0, 0.0, 0.0, 0.0, 0.0, 0.0, 0.0, 0.0, 0.0, 1.0, 0.0, 0.0, 1.0, 0.0, 2.0, 2.0, 0.0, 0.0, 0.0, 1.0, 1.0, 0.0, 0.0, 0.0, 0.0, 0.0, 0.0, 1.0, 1.0, 0.0, 0.0, 0.0, 0.0, 0.0, 0.0, 0.0, 1.0, 1.0, 0.0, 0.0, 0.0, 0.0, 0.0, 0.0, 0.0, 0.0, 0.0, 0.0, 0.0, 0.0, 0.0, 0.0, 0.0, 0.0, 0.0, 0.0, 0.0, 0.0, 0.0, 0.0, 0.0, 0.0, 0.0, 0.0, 0.0, 0.0, 0.0, 0.0, 0.0, 0.0, 0.0, 0.0, 0.0, 0.0, 0.0, 0.0, 0.0, 0.0, 0.0, 0.0, 0.0, 0.0, 0.0, 0.0, 0.0, 0.0, 0.0, 0.0, 0.0, 0.0, 0.0, 0.0, 0.0, 0.0, 0.0, 0.0, 0.0, ...)   \n4  (1.0, 1.0, 1.0, 0.0, 0.0, 0.0, 0.0, 0.0, 0.0, 0.0, 0.0, 0.0, 0.0, 0.0, 0.0, 0.0, 0.0, 0.0, 0.0, 0.0, 0.0, 0.0, 0.0, 0.0, 0.0, 0.0, 0.0, 0.0, 0.0, 0.0, 0.0, 0.0, 0.0, 0.0, 0.0, 0.0, 0.0, 0.0, 0.0, 0.0, 0.0, 0.0, 0.0, 0.0, 0.0, 0.0, 0.0, 1.0, 0.0, 0.0, 0.0, 0.0, 0.0, 0.0, 0.0, 0.0, 0.0, 0.0, 0.0, 0.0, 0.0, 0.0, 0.0, 0.0, 0.0, 0.0, 0.0, 0.0, 0.0, 0.0, 0.0, 0.0, 0.0, 0.0, 0.0, 0.0, 0.0, 0.0, 0.0, 0.0, 0.0, 1.0, 0.0, 0.0, 0.0, 0.0, 0.0, 0.0, 0.0, 0.0, 0.0, 0.0, 0.0, 0.0, 0.0, 0.0, 0.0, 0.0, 0.0, 0.0, ...)   \n\n   label                                                   rawPrediction  \\\n0    2.0  [6.0180550513825715, -2.1288893500554638, -3.8891657013271077]   \n1    0.0   [19.229031174473352, -9.130993920159074, -10.098037254314276]   \n2    1.0     [0.9636461588983751, 6.219928043979082, -7.183574202877459]   \n3    0.0   [14.177052647213666, -5.9923531018555884, -8.184699545358077]   \n4    0.0   [5.307075217857534, -2.0466873750703427, -3.2603878427871917]   \n\n                                                           probability  \\\n0  [0.9996606825191889, 0.00028952069548830955, 4.979678532262728e-05]   \n1   [0.9999999999993343, 4.823892208271229e-13, 1.834070438506885e-13]   \n2   [0.005187598035133194, 0.9948108999526292, 1.5020122377173194e-06]   \n3  [0.9999999980657697, 1.739956453071621e-09, 1.9427388104280267e-10]   \n4  [0.9991703153081712, 0.0006396479430185538, 0.00019003674881021794]   \n\n   prediction  \n0         0.0  \n1         0.0  \n2         1.0  \n3         0.0  \n4         0.0  ",
      "text/html": "<div>\n<style scoped>\n    .dataframe tbody tr th:only-of-type {\n        vertical-align: middle;\n    }\n\n    .dataframe tbody tr th {\n        vertical-align: top;\n    }\n\n    .dataframe thead th {\n        text-align: right;\n    }\n</style>\n<table border=\"1\" class=\"dataframe\">\n  <thead>\n    <tr style=\"text-align: right;\">\n      <th></th>\n      <th>features</th>\n      <th>label</th>\n      <th>rawPrediction</th>\n      <th>probability</th>\n      <th>prediction</th>\n    </tr>\n  </thead>\n  <tbody>\n    <tr>\n      <th>0</th>\n      <td>(3.0, 2.0, 1.0, 1.0, 0.0, 0.0, 0.0, 1.0, 0.0, 0.0, 1.0, 3.0, 0.0, 0.0, 0.0, 1.0, 0.0, 0.0, 1.0, 0.0, 0.0, 0.0, 2.0, 0.0, 0.0, 0.0, 0.0, 0.0, 0.0, 0.0, 0.0, 0.0, 0.0, 1.0, 0.0, 0.0, 0.0, 0.0, 0.0, 0.0, 0.0, 0.0, 0.0, 0.0, 0.0, 0.0, 0.0, 0.0, 0.0, 1.0, 0.0, 0.0, 0.0, 0.0, 0.0, 0.0, 0.0, 0.0, 0.0, 0.0, 0.0, 0.0, 1.0, 0.0, 0.0, 0.0, 0.0, 0.0, 0.0, 0.0, 0.0, 0.0, 0.0, 0.0, 0.0, 0.0, 0.0, 0.0, 0.0, 0.0, 0.0, 0.0, 0.0, 0.0, 0.0, 0.0, 0.0, 0.0, 0.0, 0.0, 0.0, 0.0, 0.0, 0.0, 0.0, 0.0, 0.0, 0.0, 0.0, 0.0, ...)</td>\n      <td>2.0</td>\n      <td>[6.0180550513825715, -2.1288893500554638, -3.8891657013271077]</td>\n      <td>[0.9996606825191889, 0.00028952069548830955, 4.979678532262728e-05]</td>\n      <td>0.0</td>\n    </tr>\n    <tr>\n      <th>1</th>\n      <td>(3.0, 2.0, 1.0, 1.0, 0.0, 0.0, 0.0, 0.0, 1.0, 0.0, 1.0, 1.0, 0.0, 0.0, 0.0, 1.0, 1.0, 0.0, 0.0, 0.0, 0.0, 0.0, 0.0, 0.0, 1.0, 0.0, 0.0, 0.0, 0.0, 1.0, 0.0, 0.0, 0.0, 0.0, 0.0, 0.0, 1.0, 0.0, 0.0, 0.0, 0.0, 0.0, 0.0, 0.0, 1.0, 1.0, 0.0, 0.0, 1.0, 0.0, 0.0, 0.0, 0.0, 0.0, 0.0, 0.0, 0.0, 0.0, 0.0, 0.0, 0.0, 0.0, 0.0, 0.0, 0.0, 0.0, 0.0, 1.0, 1.0, 0.0, 0.0, 0.0, 0.0, 0.0, 1.0, 0.0, 1.0, 0.0, 0.0, 0.0, 1.0, 0.0, 0.0, 0.0, 0.0, 0.0, 0.0, 0.0, 0.0, 0.0, 0.0, 0.0, 0.0, 0.0, 0.0, 0.0, 0.0, 0.0, 0.0, 0.0, ...)</td>\n      <td>0.0</td>\n      <td>[19.229031174473352, -9.130993920159074, -10.098037254314276]</td>\n      <td>[0.9999999999993343, 4.823892208271229e-13, 1.834070438506885e-13]</td>\n      <td>0.0</td>\n    </tr>\n    <tr>\n      <th>2</th>\n      <td>(6.0, 2.0, 2.0, 1.0, 0.0, 0.0, 0.0, 0.0, 0.0, 0.0, 2.0, 0.0, 2.0, 0.0, 0.0, 1.0, 0.0, 0.0, 0.0, 0.0, 0.0, 1.0, 0.0, 0.0, 0.0, 0.0, 0.0, 0.0, 1.0, 0.0, 0.0, 0.0, 0.0, 0.0, 1.0, 0.0, 0.0, 0.0, 0.0, 0.0, 0.0, 0.0, 1.0, 0.0, 0.0, 0.0, 0.0, 0.0, 0.0, 0.0, 0.0, 0.0, 0.0, 2.0, 0.0, 0.0, 0.0, 0.0, 0.0, 1.0, 0.0, 0.0, 0.0, 0.0, 0.0, 0.0, 0.0, 0.0, 0.0, 0.0, 0.0, 0.0, 0.0, 0.0, 0.0, 0.0, 0.0, 1.0, 0.0, 0.0, 0.0, 0.0, 0.0, 0.0, 0.0, 0.0, 2.0, 0.0, 0.0, 0.0, 0.0, 0.0, 0.0, 0.0, 0.0, 0.0, 0.0, 0.0, 0.0, 0.0, ...)</td>\n      <td>1.0</td>\n      <td>[0.9636461588983751, 6.219928043979082, -7.183574202877459]</td>\n      <td>[0.005187598035133194, 0.9948108999526292, 1.5020122377173194e-06]</td>\n      <td>1.0</td>\n    </tr>\n    <tr>\n      <th>3</th>\n      <td>(5.0, 3.0, 1.0, 2.0, 0.0, 0.0, 0.0, 0.0, 0.0, 0.0, 0.0, 0.0, 1.0, 0.0, 0.0, 1.0, 0.0, 2.0, 2.0, 0.0, 0.0, 0.0, 1.0, 1.0, 0.0, 0.0, 0.0, 0.0, 0.0, 0.0, 1.0, 1.0, 0.0, 0.0, 0.0, 0.0, 0.0, 0.0, 0.0, 1.0, 1.0, 0.0, 0.0, 0.0, 0.0, 0.0, 0.0, 0.0, 0.0, 0.0, 0.0, 0.0, 0.0, 0.0, 0.0, 0.0, 0.0, 0.0, 0.0, 0.0, 0.0, 0.0, 0.0, 0.0, 0.0, 0.0, 0.0, 0.0, 0.0, 0.0, 0.0, 0.0, 0.0, 0.0, 0.0, 0.0, 0.0, 0.0, 0.0, 0.0, 0.0, 0.0, 0.0, 0.0, 0.0, 0.0, 0.0, 0.0, 0.0, 0.0, 0.0, 0.0, 0.0, 0.0, 0.0, 0.0, 0.0, 0.0, 0.0, 0.0, ...)</td>\n      <td>0.0</td>\n      <td>[14.177052647213666, -5.9923531018555884, -8.184699545358077]</td>\n      <td>[0.9999999980657697, 1.739956453071621e-09, 1.9427388104280267e-10]</td>\n      <td>0.0</td>\n    </tr>\n    <tr>\n      <th>4</th>\n      <td>(1.0, 1.0, 1.0, 0.0, 0.0, 0.0, 0.0, 0.0, 0.0, 0.0, 0.0, 0.0, 0.0, 0.0, 0.0, 0.0, 0.0, 0.0, 0.0, 0.0, 0.0, 0.0, 0.0, 0.0, 0.0, 0.0, 0.0, 0.0, 0.0, 0.0, 0.0, 0.0, 0.0, 0.0, 0.0, 0.0, 0.0, 0.0, 0.0, 0.0, 0.0, 0.0, 0.0, 0.0, 0.0, 0.0, 0.0, 1.0, 0.0, 0.0, 0.0, 0.0, 0.0, 0.0, 0.0, 0.0, 0.0, 0.0, 0.0, 0.0, 0.0, 0.0, 0.0, 0.0, 0.0, 0.0, 0.0, 0.0, 0.0, 0.0, 0.0, 0.0, 0.0, 0.0, 0.0, 0.0, 0.0, 0.0, 0.0, 0.0, 0.0, 1.0, 0.0, 0.0, 0.0, 0.0, 0.0, 0.0, 0.0, 0.0, 0.0, 0.0, 0.0, 0.0, 0.0, 0.0, 0.0, 0.0, 0.0, 0.0, ...)</td>\n      <td>0.0</td>\n      <td>[5.307075217857534, -2.0466873750703427, -3.2603878427871917]</td>\n      <td>[0.9991703153081712, 0.0006396479430185538, 0.00019003674881021794]</td>\n      <td>0.0</td>\n    </tr>\n  </tbody>\n</table>\n</div>"
     },
     "execution_count": 116,
     "metadata": {},
     "output_type": "execute_result"
    }
   ],
   "source": [
    "# Try Logistic regression\n",
    "from pyspark.ml.classification import LogisticRegression\n",
    "\n",
    "lr = LogisticRegression()\n",
    "lr_model = lr.fit(train)\n",
    "lr_predictions = lr_model.transform(test)\n",
    "lr_predictions.limit(5).toPandas()"
   ],
   "metadata": {
    "collapsed": false,
    "pycharm": {
     "name": "#%%\n"
    }
   }
  },
  {
   "cell_type": "code",
   "execution_count": 117,
   "outputs": [
    {
     "name": "stdout",
     "output_type": "stream",
     "text": [
      "Linear regression f1 0.8947\n"
     ]
    }
   ],
   "source": [
    "from pyspark.ml.evaluation import MulticlassClassificationEvaluator\n",
    "\n",
    "evaluator = MulticlassClassificationEvaluator()\n",
    "print(f\"Linear regression f1 {evaluator.evaluate(lr_predictions):.4f}\")"
   ],
   "metadata": {
    "collapsed": false,
    "pycharm": {
     "name": "#%%\n"
    }
   }
  },
  {
   "cell_type": "code",
   "execution_count": 118,
   "outputs": [
    {
     "name": "stdout",
     "output_type": "stream",
     "text": [
      "False positive rate by label:\n",
      "label 0: 0.0\n",
      "label 1: 0.0\n",
      "label 2: 0.0\n",
      "True positive rate by label:\n",
      "label 0: 1.0\n",
      "label 1: 1.0\n",
      "label 2: 1.0\n",
      "Precision by label:\n",
      "label 0: 1.0\n",
      "label 1: 1.0\n",
      "label 2: 1.0\n",
      "Recall by label:\n",
      "label 0: 1.0\n",
      "label 1: 1.0\n",
      "label 2: 1.0\n",
      "F-measure by label:\n",
      "label 0: 1.0\n",
      "label 1: 1.0\n",
      "label 2: 1.0\n",
      "Accuracy: 1.0\n",
      "FPR: 0.0\n",
      "TPR: 1.0\n",
      "F-measure: 1.0\n",
      "Precision: 1.0\n",
      "Recall: 1.0\n"
     ]
    }
   ],
   "source": [
    "training_summary = lr_model.summary\n",
    "\n"
   ],
   "metadata": {
    "collapsed": false,
    "pycharm": {
     "name": "#%%\n"
    }
   }
  },
  {
   "cell_type": "code",
   "execution_count": null,
   "outputs": [],
   "source": [],
   "metadata": {
    "collapsed": false,
    "pycharm": {
     "name": "#%%\n"
    }
   }
  }
 ],
 "metadata": {
  "kernelspec": {
   "display_name": "Python 3",
   "language": "python",
   "name": "python3"
  },
  "language_info": {
   "codemirror_mode": {
    "name": "ipython",
    "version": 2
   },
   "file_extension": ".py",
   "mimetype": "text/x-python",
   "name": "python",
   "nbconvert_exporter": "python",
   "pygments_lexer": "ipython2",
   "version": "2.7.6"
  }
 },
 "nbformat": 4,
 "nbformat_minor": 0
}