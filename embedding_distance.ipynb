{
 "cells": [
  {
   "cell_type": "code",
   "execution_count": 1,
   "metadata": {
    "collapsed": true
   },
   "outputs": [],
   "source": [
    "import os\n",
    "import numpy as np\n",
    "import pickle"
   ]
  },
  {
   "cell_type": "markdown",
   "source": [
    "# WEAT tests\n",
    "\n",
    "## Define attribute and target sets for WEAT test\n",
    "Target words represent stimuli between which we want to measure the bias (e.g., for gender biases, one target set could contain male names and the other females names)\n",
    "\n",
    "The attribute words, on the other hand, represent stimuli towards which the bias should be measured (e.g., one list\n",
    "could contain pleasant stimuli like health and love and the other negative war and death)."
   ],
   "metadata": {
    "collapsed": false,
    "pycharm": {
     "name": "#%% md\n"
    }
   }
  },
  {
   "cell_type": "code",
   "execution_count": null,
   "outputs": [],
   "source": [
    "target_words = {\n",
    "    \"conservative\": [\"trump\", \"illegal\", \"invasion\", \"gop\", \"republicans\", \"libtard\", \"housegop\", \"hoax\",\n",
    "                     \"redistricting\", \"bluelivesmatter\", \"alllivesmatter\", \"fox\", \"mcconnell\", \"cruz\",\n",
    "                     \"capitalism\", \"red\", \"entitlements\"],\n",
    "    \"liberal\": [\"obama\", \"biden\", \"immigration\", \"refugee\", \"dreamer\", \"democrats\", \"deplorable\", \"investigation\",\n",
    "                     \"gerrymandering\", \"blacklivesmatter\", \"cnn\", \"msnbc\", \"pelosi\", \"blue\",\n",
    "                     \"programs\", \"sanders\", \"clinton\"]\n",
    "}\n",
    "attribute_words = {\n",
    "    'pleasant': ['caress', 'freedom', 'health', 'love', 'peace', 'cheer', 'friend', 'heaven', 'loyal', 'pleasure',\n",
    "                 'diamond', 'gentle', 'honest', 'lucky', 'rainbow', 'diploma', 'gift', 'honor', 'miracle', 'sunrise',\n",
    "                 'family', 'happy', 'laughter', 'paradise', 'vacation', 'joy', 'wonderful'],\n",
    "    'unpleasant': ['abuse', 'crash', 'filth', 'murder', 'sickness', 'accident', 'death', 'grief', 'poison', 'stink',\n",
    "                   'assault', 'disaster', 'hatred', 'pollute', 'tragedy', 'divorce', 'jail', 'poverty', 'ugly',\n",
    "                   'cancer', 'kill', 'rotten', 'vomit', 'agony', 'prison', 'terrible', 'horrible', 'nasty', 'evil',\n",
    "                   'war', 'awful', 'failure'],\n",
    "    'science': ['math', 'algebra', 'geometry', 'calculus', 'equations', 'computation', 'numbers', 'addition', 'science',\n",
    "                'technology', 'physics', 'chemistry', 'einstein', 'nasa', 'experiment', 'astronomy'],\n",
    "    'art': ['poetry', 'art', 'dance', 'literature', 'novel', 'symphony', 'drama', 'sculpture', 'shakespeare'],\n",
    "    'intellectual_words': ['precocious', 'resourceful', 'inquisitive', 'sagacious', 'inventive', 'astute', 'adaptable',\n",
    "                           'reflective', 'discerning', 'intuitive', 'inquiring', 'judicious', 'analytical', 'luminous',\n",
    "                           'venerable', 'imaginative', 'shrewd', 'thoughtful', 'sage', 'smart', 'ingenious', 'clever',\n",
    "                           'brilliant', 'logical', 'intelligent', 'apt', 'genius', 'wise', 'stupid', 'dumb', 'dull',\n",
    "                           'clumsy', 'foolish', 'naive', 'unintelligent', 'trivial', 'unwise', 'idiotic'],\n",
    "    'appearance_words': ['alluring', 'voluptuous', 'blushing', 'homely', 'plump', 'sensual', 'gorgeous', 'slim', 'bald',\n",
    "                         'athletic', 'fashionable', 'stout', 'ugly', 'muscular', 'slender', 'feeble', 'handsome',\n",
    "                         'healthy', 'attractive', 'fat', 'weak', 'thin', 'pretty', 'beautiful', 'strong'],\n",
    "    'career': ['executive', 'management', 'professional', 'corporation', 'salary', 'office', 'business', 'career'],\n",
    "    'family': ['home', 'parents', 'children', 'family', 'cousins', 'marriage', 'wedding', 'relatives']}\n",
    "\n",
    "\"\"\"\n",
    "Target and attribute words adapted from:\n",
    "Gordon, J., Babaeianjelodar, M., & Matthews, J. (2020, April). Studying political bias via word embeddings. In Companion Proceedings of the Web Conference 2020 (pp. 760-764).\n",
    "\"\"\""
   ],
   "metadata": {
    "collapsed": false,
    "pycharm": {
     "name": "#%%\n"
    }
   }
  },
  {
   "cell_type": "code",
   "execution_count": 5,
   "outputs": [
    {
     "name": "stdout",
     "output_type": "stream",
     "text": [
      "[ 0.4725129   0.01104537  0.2936977   0.06371926 -0.5221046   0.13417247\n",
      "  0.14846216 -0.1447666   0.02842787 -0.0086388   0.16135173  0.10786468\n",
      " -0.39491042 -0.41100177 -0.07467996  0.67855394 -0.07888145 -0.0942768\n",
      "  0.09270982  0.006926    0.282753    0.54081154  0.03882745  0.4096875\n",
      " -0.18296601 -0.24074657  0.11680864  0.02394656 -0.08209445  0.11892767\n",
      "  0.2239749  -0.0662455   0.4068668  -0.04039306 -0.21655795 -0.1577926\n",
      " -0.04309444  0.6058162   0.14579584 -0.4713137   0.49915013  0.36194295\n",
      " -0.02538304  0.0907493  -0.4047754  -0.13707729 -0.43931118  0.07317677\n",
      " -0.12900189 -0.475825   -0.30924073 -0.14358307 -0.604931   -0.43298155\n",
      "  0.06673894 -0.09105019 -0.38754106  0.18038754 -0.3324915  -0.41352493\n",
      " -0.5473593   0.18693885  0.22504367 -0.0676116  -0.33730754 -0.19740912\n",
      "  0.18285869 -0.11002415  0.35051307 -0.15403818  0.05810947 -0.3110494\n",
      "  0.18796027  1.006842   -0.26418537  0.41737324 -0.37431228 -0.36757374\n",
      " -0.40975583  0.07474648  0.25716427 -0.08959326  0.24458486  0.15319656\n",
      " -0.13506974  0.16241494 -0.12433811 -0.10597616 -0.04956902 -0.33909813\n",
      " -0.29301712 -0.00130692  0.13913319 -0.1155163  -0.21357448 -0.26445982\n",
      "  0.60816073 -0.09334958  0.00575858 -0.03757619 -0.37617734 -0.10884212\n",
      "  0.22960879  0.29339892  0.09281037  0.10929053  0.36012056 -0.2640599\n",
      " -0.16246188  0.10736351  0.15188158  0.3741953  -0.25661698  0.23182325\n",
      "  0.26872426 -0.40342695 -0.11956789  0.42604873 -0.26237813  0.07010099\n",
      "  0.08190443  0.17989257  0.10518221  0.44327164 -0.18056667  0.23128624\n",
      " -0.488488    0.3707148   0.09639607  0.14121865  0.15517469  0.22238596\n",
      " -0.18613525  0.03663335  0.21798508 -0.02895921 -0.42487064 -0.14977573\n",
      " -0.07778362 -0.01347796 -0.14468169 -0.1788362  -0.09155372 -0.3916703\n",
      " -0.24704665 -0.493899    0.3775945  -0.08089362  0.42459303  0.29297903\n",
      "  0.429601    0.07512099 -0.06478459  0.12992562  0.00492379 -0.12011009\n",
      "  0.07979151 -0.10197262  0.7277827   0.12572487 -0.44384822 -0.253028\n",
      " -0.08165997  0.08814958  0.26078176 -0.5422166  -0.11187831  0.00475491]\n",
      "[-4.84015234e-02 -3.25436622e-01  2.83323526e-01 -2.57485628e-01\n",
      " -3.28238875e-01 -2.51596386e-04  1.94289893e-01 -5.21852681e-03\n",
      " -1.34949461e-01  8.85323435e-02 -1.63984612e-01  4.54210818e-01\n",
      " -4.82758552e-01 -5.62636197e-01 -1.85851008e-01  3.26319784e-01\n",
      "  2.68052846e-01  1.21308029e-01 -9.00862142e-02 -6.05405748e-01\n",
      "  4.95995320e-02  1.12877615e-01 -1.23427622e-01  3.79255950e-01\n",
      " -1.15375414e-01 -6.30048662e-02  2.24849537e-01  2.04051808e-01\n",
      " -5.14887393e-01 -2.49682143e-01 -1.78767696e-01  1.43743446e-02\n",
      "  3.60734493e-01  4.03500050e-02 -1.70713842e-01 -8.92909169e-02\n",
      " -2.66935110e-01  5.99440634e-01  1.54249758e-01  1.33311033e-01\n",
      " -7.00293332e-02 -6.03256188e-02 -1.93068042e-01  5.65525005e-03\n",
      " -2.90030867e-01  1.49014324e-01 -4.15400088e-01 -1.32027894e-01\n",
      " -1.30676523e-01 -1.59704015e-01 -2.26831704e-01 -1.77427784e-01\n",
      " -7.75139749e-01 -9.50428396e-02  3.06373507e-01 -1.39187753e-01\n",
      " -2.26995140e-01  8.47469196e-02 -3.01180273e-01 -4.20228630e-01\n",
      " -4.02328163e-01  6.61388692e-03  3.50674599e-01  9.83669143e-03\n",
      " -2.11824462e-01  3.14011723e-01  2.32253969e-01 -9.92969424e-02\n",
      "  1.77092180e-01  6.80527464e-03 -1.44737989e-01 -9.98502690e-03\n",
      "  4.35489565e-02  5.52372158e-01 -6.20804206e-02  3.87983769e-01\n",
      " -1.51103497e-01  3.38680185e-02 -1.24588534e-01  1.25083804e-01\n",
      " -4.74934354e-02  2.59806272e-02  3.11040789e-01 -2.02807374e-02\n",
      " -3.44667435e-01  1.48674577e-01 -2.17451304e-01  1.48666665e-01\n",
      "  4.03678477e-01 -2.94686347e-01 -2.32329413e-01 -2.21706107e-02\n",
      " -1.85357910e-02  1.96667444e-02  3.51967782e-01 -3.83675814e-01\n",
      "  3.75756174e-01 -2.93476880e-01  3.11744008e-02  2.24406049e-01\n",
      "  2.69489549e-02  4.18532975e-02  4.78227794e-01  3.13706309e-01\n",
      "  1.98915318e-01 -4.17786807e-01  4.16435897e-01 -5.32467246e-01\n",
      " -2.17780694e-01  1.76281393e-01 -1.18273795e-01  1.97523430e-01\n",
      "  2.00316757e-01  3.83992910e-01 -4.15192097e-01 -4.19259638e-01\n",
      " -4.27873641e-01  6.61025643e-01 -1.48082346e-01  1.56739816e-01\n",
      "  2.46777735e-03 -1.70653865e-01  1.54589429e-01  1.48846880e-01\n",
      "  8.34233835e-02 -2.22543888e-02 -1.76102787e-01  3.09080541e-01\n",
      " -5.52517213e-02  1.60821810e-01  1.87062219e-01 -1.93058580e-01\n",
      "  8.61745477e-02  2.63628718e-02  5.41211963e-01  1.63868740e-01\n",
      " -6.29138231e-01  7.82865360e-02 -7.03420416e-02 -3.88786159e-02\n",
      "  2.75849462e-01 -1.59593951e-02 -6.13397896e-01 -2.00112805e-01\n",
      " -1.93955690e-01 -7.99947739e-01 -5.49943298e-02  3.69131602e-02\n",
      "  4.87151474e-01  1.48582339e-01  6.18200958e-01  4.95329835e-02\n",
      "  2.13694815e-02  4.56795573e-01 -2.02820197e-01  9.47702453e-02\n",
      "  1.14671022e-01  1.13957837e-01  3.99203807e-01  6.88022524e-02\n",
      " -3.01782548e-01 -8.13649893e-02  5.70578836e-02  8.26928541e-02\n",
      "  3.64682168e-01 -3.83563250e-01  2.45469585e-01 -2.06634477e-01]\n"
     ]
    }
   ],
   "source": [
    "# Load embeddings (just conservapedia for now)\n",
    "\n",
    "word2vec_embeddings = {}\n",
    "for pkl in os.listdir(\"data/embeddings\"):\n",
    "    path = os.path.join(\"data/embeddings\", pkl)\n",
    "    with open(path, \"rb\") as file:\n",
    "        embedding = pickle.load(file)\n",
    "    word2vec_embeddings[\"conservapedia\"] = {word: np.array(vec) for word, vec in embedding}\n",
    "\n",
    "# print(word2vec_embeddings[\"conservapedia\"][\"health\"])\n",
    "# print(word2vec_embeddings[\"conservapedia\"][\"medical\"])"
   ],
   "metadata": {
    "collapsed": false,
    "pycharm": {
     "name": "#%%\n"
    }
   }
  },
  {
   "cell_type": "code",
   "execution_count": 7,
   "outputs": [
    {
     "name": "stdout",
     "output_type": "stream",
     "text": [
      "[===========---------------------------------------] 22.4% 23.4/104.8MB downloaded"
     ]
    },
    {
     "name": "stderr",
     "output_type": "stream",
     "text": [
      "IOPub message rate exceeded.\n",
      "The notebook server will temporarily stop sending output\n",
      "to the client in order to avoid crashing it.\n",
      "To change this limit, set the config variable\n",
      "`--NotebookApp.iopub_msg_rate_limit`.\n",
      "\n",
      "Current values:\n",
      "NotebookApp.iopub_msg_rate_limit=1000.0 (msgs/sec)\n",
      "NotebookApp.rate_limit_window=3.0 (secs)\n",
      "\n"
     ]
    },
    {
     "name": "stdout",
     "output_type": "stream",
     "text": [
      "[===========================-----------------------] 55.9% 58.6/104.8MB downloaded"
     ]
    },
    {
     "name": "stderr",
     "output_type": "stream",
     "text": [
      "IOPub message rate exceeded.\n",
      "The notebook server will temporarily stop sending output\n",
      "to the client in order to avoid crashing it.\n",
      "To change this limit, set the config variable\n",
      "`--NotebookApp.iopub_msg_rate_limit`.\n",
      "\n",
      "Current values:\n",
      "NotebookApp.iopub_msg_rate_limit=1000.0 (msgs/sec)\n",
      "NotebookApp.rate_limit_window=3.0 (secs)\n",
      "\n"
     ]
    },
    {
     "name": "stdout",
     "output_type": "stream",
     "text": [
      "[==========================================--------] 84.1% 88.2/104.8MB downloaded"
     ]
    },
    {
     "name": "stderr",
     "output_type": "stream",
     "text": [
      "IOPub message rate exceeded.\n",
      "The notebook server will temporarily stop sending output\n",
      "to the client in order to avoid crashing it.\n",
      "To change this limit, set the config variable\n",
      "`--NotebookApp.iopub_msg_rate_limit`.\n",
      "\n",
      "Current values:\n",
      "NotebookApp.iopub_msg_rate_limit=1000.0 (msgs/sec)\n",
      "NotebookApp.rate_limit_window=3.0 (secs)\n",
      "\n"
     ]
    },
    {
     "name": "stdout",
     "output_type": "stream",
     "text": [
      "[==================================================] 100.0% 104.8/104.8MB downloaded\n"
     ]
    }
   ],
   "source": [
    "import gensim.downloader as api\n",
    "\n",
    "from wefe.datasets import load_weat\n",
    "from wefe.metrics import WEAT\n",
    "from wefe.query import Query\n",
    "from wefe.word_embedding_model import WordEmbeddingModel\n",
    "\n",
    "twitter_25 = api.load(\"glove-twitter-25\")"
   ],
   "metadata": {
    "collapsed": false,
    "pycharm": {
     "name": "#%%\n"
    }
   }
  },
  {
   "cell_type": "code",
   "execution_count": 11,
   "outputs": [
    {
     "data": {
      "text/plain": "['__class__',\n '__contains__',\n '__delattr__',\n '__dict__',\n '__dir__',\n '__doc__',\n '__eq__',\n '__format__',\n '__ge__',\n '__getattribute__',\n '__getitem__',\n '__gt__',\n '__hash__',\n '__init__',\n '__init_subclass__',\n '__le__',\n '__len__',\n '__lt__',\n '__module__',\n '__ne__',\n '__new__',\n '__reduce__',\n '__reduce_ex__',\n '__repr__',\n '__setattr__',\n '__setitem__',\n '__sizeof__',\n '__str__',\n '__subclasshook__',\n '__weakref__',\n '_adapt_by_suffix',\n '_load_specials',\n '_log_evaluate_word_analogies',\n '_save_specials',\n '_smart_save',\n '_upconvert_old_d2vkv',\n '_upconvert_old_vocab',\n 'add_lifecycle_event',\n 'add_vector',\n 'add_vectors',\n 'allocate_vecattrs',\n 'closer_than',\n 'cosine_similarities',\n 'distance',\n 'distances',\n 'doesnt_match',\n 'evaluate_word_analogies',\n 'evaluate_word_pairs',\n 'expandos',\n 'fill_norms',\n 'get_index',\n 'get_normed_vectors',\n 'get_vecattr',\n 'get_vector',\n 'has_index_for',\n 'index2entity',\n 'index2word',\n 'index_to_key',\n 'init_sims',\n 'intersect_word2vec_format',\n 'key_to_index',\n 'lifecycle_events',\n 'load',\n 'load_word2vec_format',\n 'log_accuracy',\n 'log_evaluate_word_pairs',\n 'mapfile_path',\n 'most_similar',\n 'most_similar_cosmul',\n 'most_similar_to_given',\n 'n_similarity',\n 'next_index',\n 'norms',\n 'rank',\n 'rank_by_centrality',\n 'relative_cosine_similarity',\n 'resize_vectors',\n 'save',\n 'save_word2vec_format',\n 'set_vecattr',\n 'similar_by_key',\n 'similar_by_vector',\n 'similar_by_word',\n 'similarity',\n 'similarity_unseen_docs',\n 'sort_by_descending_frequency',\n 'unit_normalize_all',\n 'vector_size',\n 'vectors',\n 'vectors_for_all',\n 'vectors_norm',\n 'vocab',\n 'wmdistance',\n 'word_vec',\n 'words_closer_than']"
     },
     "execution_count": 11,
     "metadata": {},
     "output_type": "execute_result"
    }
   ],
   "source": [
    "dir(twitter_25)"
   ],
   "metadata": {
    "collapsed": false,
    "pycharm": {
     "name": "#%%\n"
    }
   }
  },
  {
   "cell_type": "markdown",
   "source": [
    "# Next steps:\n",
    "\n",
    "1. Investigate use of sbert or other sequence-based word embeddings so that target words can include multiple words like \"tax reform\" or \"gun control\", for example.\n",
    "2."
   ],
   "metadata": {
    "collapsed": false,
    "pycharm": {
     "name": "#%% md\n"
    }
   }
  }
 ],
 "metadata": {
  "kernelspec": {
   "display_name": "Python 3",
   "language": "python",
   "name": "python3"
  },
  "language_info": {
   "codemirror_mode": {
    "name": "ipython",
    "version": 2
   },
   "file_extension": ".py",
   "mimetype": "text/x-python",
   "name": "python",
   "nbconvert_exporter": "python",
   "pygments_lexer": "ipython2",
   "version": "2.7.6"
  }
 },
 "nbformat": 4,
 "nbformat_minor": 0
}