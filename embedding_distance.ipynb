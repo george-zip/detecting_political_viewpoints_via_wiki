{
 "cells": [
  {
   "cell_type": "code",
   "execution_count": 1,
   "metadata": {
    "collapsed": true
   },
   "outputs": [],
   "source": [
    "import os\n",
    "import numpy as np\n",
    "import pickle"
   ]
  },
  {
   "cell_type": "markdown",
   "source": [
    "# WEAT tests\n",
    "\n",
    "## Define attribute and target sets for WEAT test\n",
    "Target words represent stimuli between which we want to measure the bias (e.g., for gender biases, one target set could contain male names and the other females names)\n",
    "\n",
    "The attribute words, on the other hand, represent stimuli towards which the bias should be measured (e.g., one list\n",
    "could contain pleasant stimuli like health and love and the other negative war and death)."
   ],
   "metadata": {
    "collapsed": false,
    "pycharm": {
     "name": "#%% md\n"
    }
   }
  },
  {
   "cell_type": "code",
   "execution_count": null,
   "outputs": [],
   "source": [
    "target_words = {\n",
    "    \"conservative\": [\"trump\", \"illegal\", \"invasion\", \"gop\", \"republicans\", \"libtard\", \"housegop\", \"hoax\",\n",
    "                     \"redistricting\", \"bluelivesmatter\", \"alllivesmatter\", \"fox\", \"mcconnell\", \"cruz\",\n",
    "                     \"capitalism\", \"red\", \"entitlements\"],\n",
    "    \"liberal\": [\"obama\", \"biden\", \"immigration\", \"refugee\", \"dreamer\", \"democrats\", \"deplorable\", \"investigation\",\n",
    "                     \"gerrymandering\", \"blacklivesmatter\", \"cnn\", \"msnbc\", \"pelosi\", \"blue\",\n",
    "                     \"programs\", \"sanders\", \"clinton\"]\n",
    "}\n",
    "attribute_words = {\n",
    "    'pleasant': ['caress', 'freedom', 'health', 'love', 'peace', 'cheer', 'friend', 'heaven', 'loyal', 'pleasure',\n",
    "                 'diamond', 'gentle', 'honest', 'lucky', 'rainbow', 'diploma', 'gift', 'honor', 'miracle', 'sunrise',\n",
    "                 'family', 'happy', 'laughter', 'paradise', 'vacation', 'joy', 'wonderful'],\n",
    "    'unpleasant': ['abuse', 'crash', 'filth', 'murder', 'sickness', 'accident', 'death', 'grief', 'poison', 'stink',\n",
    "                   'assault', 'disaster', 'hatred', 'pollute', 'tragedy', 'divorce', 'jail', 'poverty', 'ugly',\n",
    "                   'cancer', 'kill', 'rotten', 'vomit', 'agony', 'prison', 'terrible', 'horrible', 'nasty', 'evil',\n",
    "                   'war', 'awful', 'failure'],\n",
    "    'science': ['math', 'algebra', 'geometry', 'calculus', 'equations', 'computation', 'numbers', 'addition', 'science',\n",
    "                'technology', 'physics', 'chemistry', 'einstein', 'nasa', 'experiment', 'astronomy'],\n",
    "    'art': ['poetry', 'art', 'dance', 'literature', 'novel', 'symphony', 'drama', 'sculpture', 'shakespeare'],\n",
    "    'intellectual_words': ['precocious', 'resourceful', 'inquisitive', 'sagacious', 'inventive', 'astute', 'adaptable',\n",
    "                           'reflective', 'discerning', 'intuitive', 'inquiring', 'judicious', 'analytical', 'luminous',\n",
    "                           'venerable', 'imaginative', 'shrewd', 'thoughtful', 'sage', 'smart', 'ingenious', 'clever',\n",
    "                           'brilliant', 'logical', 'intelligent', 'apt', 'genius', 'wise', 'stupid', 'dumb', 'dull',\n",
    "                           'clumsy', 'foolish', 'naive', 'unintelligent', 'trivial', 'unwise', 'idiotic'],\n",
    "    'appearance_words': ['alluring', 'voluptuous', 'blushing', 'homely', 'plump', 'sensual', 'gorgeous', 'slim', 'bald',\n",
    "                         'athletic', 'fashionable', 'stout', 'ugly', 'muscular', 'slender', 'feeble', 'handsome',\n",
    "                         'healthy', 'attractive', 'fat', 'weak', 'thin', 'pretty', 'beautiful', 'strong'],\n",
    "    'career': ['executive', 'management', 'professional', 'corporation', 'salary', 'office', 'business', 'career'],\n",
    "    'family': ['home', 'parents', 'children', 'family', 'cousins', 'marriage', 'wedding', 'relatives']}\n",
    "\n",
    "\"\"\"\n",
    "Target and attribute words adapted from:\n",
    "Gordon, J., Babaeianjelodar, M., & Matthews, J. (2020, April). Studying political bias via word embeddings. In Companion Proceedings of the Web Conference 2020 (pp. 760-764).\n",
    "\"\"\""
   ],
   "metadata": {
    "collapsed": false,
    "pycharm": {
     "name": "#%%\n"
    }
   }
  },
  {
   "cell_type": "code",
   "execution_count": 12,
   "outputs": [
    {
     "name": "stdout",
     "output_type": "stream",
     "text": [
      "data/embeddings/6.pkl\n",
      "data/embeddings/7.pkl\n",
      "data/embeddings/5.pkl\n",
      "data/embeddings/4.pkl\n",
      "data/embeddings/0.pkl\n",
      "data/embeddings/1.pkl\n",
      "data/embeddings/3.pkl\n",
      "data/embeddings/2.pkl\n"
     ]
    }
   ],
   "source": [
    "# Load embeddings (just conservapedia for now)\n",
    "\n",
    "word2vec_embeddings = {}\n",
    "for pkl in os.listdir(\"data/embeddings\"):\n",
    "    path = os.path.join(\"data/embeddings\", pkl)\n",
    "    print(path)\n",
    "    with open(path, \"rb\") as file:\n",
    "        embedding = pickle.load(file)\n",
    "    word2vec_embeddings[\"conservapedia\"] = {word: np.array(vec) for word, vec in embedding}\n",
    "\n",
    "# print(word2vec_embeddings[\"conservapedia\"][\"health\"])\n"
   ],
   "metadata": {
    "collapsed": false,
    "pycharm": {
     "name": "#%%\n"
    }
   }
  },
  {
   "cell_type": "code",
   "execution_count": 18,
   "outputs": [
    {
     "data": {
      "text/plain": "168"
     },
     "execution_count": 18,
     "metadata": {},
     "output_type": "execute_result"
    }
   ],
   "source": [
    "len(word2vec_embeddings[\"conservapedia\"][\"medical\"])"
   ],
   "metadata": {
    "collapsed": false,
    "pycharm": {
     "name": "#%%\n"
    }
   }
  },
  {
   "cell_type": "code",
   "execution_count": null,
   "outputs": [],
   "source": [
    "import gensim.downloader as api\n",
    "\n",
    "# https://wefe.readthedocs.io/en/latest/about.html\n",
    "from wefe.datasets import load_weat\n",
    "from wefe.metrics import WEAT\n",
    "from wefe.query import Query\n",
    "from wefe.word_embedding_model import WordEmbeddingModel\n",
    "\n",
    "twitter_25 = api.load(\"glove-twitter-25\")"
   ],
   "metadata": {
    "collapsed": false,
    "pycharm": {
     "name": "#%%\n",
     "is_executing": true
    }
   }
  },
  {
   "cell_type": "code",
   "execution_count": 17,
   "outputs": [
    {
     "data": {
      "text/plain": "gensim.models.keyedvectors.KeyedVectors"
     },
     "execution_count": 17,
     "metadata": {},
     "output_type": "execute_result"
    }
   ],
   "source": [
    "type(twitter_25)"
   ],
   "metadata": {
    "collapsed": false,
    "pycharm": {
     "name": "#%%\n"
    }
   }
  },
  {
   "cell_type": "code",
   "execution_count": 23,
   "outputs": [
    {
     "name": "stderr",
     "output_type": "stream",
     "text": [
      "/Users/chriswallerstein/Development/python/wikipedia_bias/venv/lib/python3.8/site-packages/gensim/models/keyedvectors.py:478: UserWarning: Adding single vectors to a KeyedVectors which grows by one each time can be costly. Consider adding in batches or preallocating to the required size.\n",
      "  warnings.warn(\n"
     ]
    }
   ],
   "source": [
    "# import gensim.models.keyedvectors\n",
    "import gensim\n",
    "\n",
    "kv = gensim.models.keyedvectors.KeyedVectors(168)\n",
    "\n",
    "for word, vector in word2vec_embeddings[\"conservapedia\"].items():\n",
    "    kv.add_vector(word, vector)\n",
    "    break"
   ],
   "metadata": {
    "collapsed": false,
    "pycharm": {
     "name": "#%%\n"
    }
   }
  },
  {
   "cell_type": "markdown",
   "source": [
    "# Next steps:\n",
    "\n",
    "1. Find out how to use the gensim.models.keyedvectors API with my existing embeddings so that I can leverage the WEFE (Word Embedding Fairness Evaluation) library to measure bias.\n",
    "2. Investigate use of sbert or other sequence-based word embeddings so that target words can include multiple words like \"tax reform\" or \"gun control\", for example.\n",
    "3."
   ],
   "metadata": {
    "collapsed": false,
    "pycharm": {
     "name": "#%% md\n"
    }
   }
  }
 ],
 "metadata": {
  "kernelspec": {
   "display_name": "Python 3",
   "language": "python",
   "name": "python3"
  },
  "language_info": {
   "codemirror_mode": {
    "name": "ipython",
    "version": 2
   },
   "file_extension": ".py",
   "mimetype": "text/x-python",
   "name": "python",
   "nbconvert_exporter": "python",
   "pygments_lexer": "ipython2",
   "version": "2.7.6"
  }
 },
 "nbformat": 4,
 "nbformat_minor": 0
}